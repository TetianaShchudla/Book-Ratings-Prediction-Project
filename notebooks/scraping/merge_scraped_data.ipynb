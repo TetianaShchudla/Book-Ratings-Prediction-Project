{
 "cells": [
  {
   "cell_type": "markdown",
   "source": [
    "# This notebook is for merging the scraped data (authors stats and books discussions stats)"
   ],
   "metadata": {
    "collapsed": false,
    "pycharm": {
     "name": "#%% md\n"
    }
   }
  },
  {
   "cell_type": "code",
   "execution_count": 34,
   "metadata": {
    "collapsed": true,
    "pycharm": {
     "name": "#%%\n"
    }
   },
   "outputs": [],
   "source": [
    "import pandas as pd"
   ]
  },
  {
   "cell_type": "code",
   "execution_count": 35,
   "outputs": [
    {
     "name": "stdout",
     "output_type": "stream",
     "text": [
      "(11127, 16)\n",
      "(11123, 15)\n"
     ]
    }
   ],
   "source": [
    "BASE_PATH = \"/home/mh06/dsti/new/dsti-ml-book-ratings/data/raw/scraped\"\n",
    "discussions = f\"{BASE_PATH}/discussion/books_discussion_latest_cleaned.csv\"\n",
    "author_stats = f\"{BASE_PATH}/books_written_followers_latest_cleaned.csv\"\n",
    "\n",
    "df_discussions = pd.read_csv(discussions, sep=',', on_bad_lines='warn')\n",
    "df_authors = pd.read_csv(author_stats, sep=',', on_bad_lines='warn')\n",
    "\n",
    "print(df_discussions.shape)\n",
    "print(df_authors.shape)"
   ],
   "metadata": {
    "collapsed": false,
    "pycharm": {
     "name": "#%%\n"
    }
   }
  },
  {
   "cell_type": "markdown",
   "source": [
    "There is a difference of 5 rows between the these two datasets, because when we first started scraping, for authors information (df_authors) we ignored the 5 bad rows where there were one more column, but for the discussions stats scraping we started by fixing these five rows manually.\n",
    "\n",
    "In order to simplify the data merge and moving further we will drop these rows from df_discussions."
   ],
   "metadata": {
    "collapsed": false,
    "pycharm": {
     "name": "#%% md\n"
    }
   }
  },
  {
   "cell_type": "code",
   "execution_count": 36,
   "outputs": [
    {
     "name": "stdout",
     "output_type": "stream",
     "text": [
      "Index(['Unnamed: 0', 'bookID', 'title', 'authors', 'average_rating', 'isbn',\n",
      "       'isbn13', 'language_code', 'num_pages', 'ratings_count',\n",
      "       'text_reviews_count', 'publication_date', 'publisher', 'quotes',\n",
      "       'discussions', 'questions'],\n",
      "      dtype='object')\n",
      "Index(['Unnamed: 0', 'bookID', 'title', 'authors', 'average_rating', 'isbn',\n",
      "       'isbn13', 'language_code', '  num_pages', 'ratings_count',\n",
      "       'text_reviews_count', 'publication_date', 'publisher', 'written_books',\n",
      "       'followers'],\n",
      "      dtype='object')\n"
     ]
    }
   ],
   "source": [
    "print(df_discussions.columns)\n",
    "print(df_authors.columns)"
   ],
   "metadata": {
    "collapsed": false,
    "pycharm": {
     "name": "#%%\n"
    }
   }
  },
  {
   "cell_type": "code",
   "execution_count": 37,
   "outputs": [
    {
     "data": {
      "text/plain": "Index(['bookID', 'title', 'authors', 'average_rating', 'isbn', 'isbn13',\n       'language_code', 'num_pages', 'ratings_count', 'text_reviews_count',\n       'publication_date', 'publisher', 'written_books', 'followers'],\n      dtype='object')"
     },
     "execution_count": 37,
     "metadata": {},
     "output_type": "execute_result"
    }
   ],
   "source": [
    "df_authors.drop(columns=['Unnamed: 0'], inplace=True)\n",
    "df_authors.rename(columns={'  num_pages': 'num_pages'}, inplace=True)\n",
    "df_authors.columns"
   ],
   "metadata": {
    "collapsed": false,
    "pycharm": {
     "name": "#%%\n"
    }
   }
  },
  {
   "cell_type": "code",
   "execution_count": 38,
   "outputs": [
    {
     "data": {
      "text/plain": "Index(['bookID', 'quotes', 'discussions', 'questions'], dtype='object')"
     },
     "execution_count": 38,
     "metadata": {},
     "output_type": "execute_result"
    }
   ],
   "source": [
    "columns_to_merge = ['bookID', 'quotes', 'discussions', 'questions']\n",
    "df_discussions = df_discussions[columns_to_merge]\n",
    "df_discussions.columns"
   ],
   "metadata": {
    "collapsed": false,
    "pycharm": {
     "name": "#%%\n"
    }
   }
  },
  {
   "cell_type": "code",
   "execution_count": 39,
   "outputs": [
    {
     "data": {
      "text/plain": "       bookID                                              title  \\\n0           1  Harry Potter and the Half-Blood Prince (Harry ...   \n1           2  Harry Potter and the Order of the Phoenix (Har...   \n2           4  Harry Potter and the Chamber of Secrets (Harry...   \n3           5  Harry Potter and the Prisoner of Azkaban (Harr...   \n4           8  Harry Potter Boxed Set  Books 1-5 (Harry Potte...   \n...       ...                                                ...   \n11118   45631   Expelled from Eden: A William T. Vollmann Reader   \n11119   45633                        You Bright and Risen Angels   \n11120   45634                    The Ice-Shirt (Seven Dreams #1)   \n11121   45639                                        Poor People   \n11122   45641                        Las aventuras de Tom Sawyer   \n\n                                                 authors  average_rating  \\\n0                             J.K. Rowling/Mary GrandPré            4.57   \n1                             J.K. Rowling/Mary GrandPré            4.49   \n2                                           J.K. Rowling            4.42   \n3                             J.K. Rowling/Mary GrandPré            4.56   \n4                             J.K. Rowling/Mary GrandPré            4.78   \n...                                                  ...             ...   \n11118  William T. Vollmann/Larry McCaffery/Michael He...            4.06   \n11119                                William T. Vollmann            4.08   \n11120                                William T. Vollmann            3.96   \n11121                                William T. Vollmann            3.72   \n11122                                         Mark Twain            3.91   \n\n             isbn         isbn13 language_code  num_pages  ratings_count  \\\n0      0439785960  9780439785969           eng        652        2095690   \n1      0439358078  9780439358071           eng        870        2153167   \n2      0439554896  9780439554893           eng        352           6333   \n3      043965548X  9780439655484           eng        435        2339585   \n4      0439682584  9780439682589           eng       2690          41428   \n...           ...            ...           ...        ...            ...   \n11118  1560254416  9781560254416           eng        512            156   \n11119  0140110879  9780140110876           eng        635            783   \n11120  0140131965  9780140131963           eng        415            820   \n11121  0060878827  9780060878825           eng        434            769   \n11122  8497646983  9788497646987           spa        272            113   \n\n       text_reviews_count publication_date        publisher  written_books  \\\n0                   27591        9/16/2006  Scholastic Inc.          609.0   \n1                   29221         9/1/2004  Scholastic Inc.          627.0   \n2                     244        11/1/2003       Scholastic          609.0   \n3                   36325         5/1/2004  Scholastic Inc.          627.0   \n4                     164        9/13/2004       Scholastic          627.0   \n...                   ...              ...              ...            ...   \n11118                  20       12/21/2004    Da Capo Press           85.0   \n11119                  56        12/1/1988    Penguin Books           85.0   \n11120                  95         8/1/1993    Penguin Books           85.0   \n11121                 139        2/27/2007             Ecco           85.0   \n11122                  12        5/28/2006    Edimat Libros        10100.0   \n\n       followers  quotes  discussions  questions  \n0        22200.0   882.0        194.0       74.0  \n1        22200.0  1152.0        307.0      107.0  \n2        22200.0   745.0        483.0      127.0  \n3        22200.0   747.0        417.0      121.0  \n4        22200.0     1.0         20.0        2.0  \n...          ...     ...          ...        ...  \n11118     1093.0     1.0          1.0        0.0  \n11119     1093.0    23.0          1.0        0.0  \n11120     1093.0     9.0         16.0        0.0  \n11121     1093.0     4.0          1.0        0.0  \n11122    17100.0   289.0         68.0       24.0  \n\n[11123 rows x 17 columns]",
      "text/html": "<div>\n<style scoped>\n    .dataframe tbody tr th:only-of-type {\n        vertical-align: middle;\n    }\n\n    .dataframe tbody tr th {\n        vertical-align: top;\n    }\n\n    .dataframe thead th {\n        text-align: right;\n    }\n</style>\n<table border=\"1\" class=\"dataframe\">\n  <thead>\n    <tr style=\"text-align: right;\">\n      <th></th>\n      <th>bookID</th>\n      <th>title</th>\n      <th>authors</th>\n      <th>average_rating</th>\n      <th>isbn</th>\n      <th>isbn13</th>\n      <th>language_code</th>\n      <th>num_pages</th>\n      <th>ratings_count</th>\n      <th>text_reviews_count</th>\n      <th>publication_date</th>\n      <th>publisher</th>\n      <th>written_books</th>\n      <th>followers</th>\n      <th>quotes</th>\n      <th>discussions</th>\n      <th>questions</th>\n    </tr>\n  </thead>\n  <tbody>\n    <tr>\n      <th>0</th>\n      <td>1</td>\n      <td>Harry Potter and the Half-Blood Prince (Harry ...</td>\n      <td>J.K. Rowling/Mary GrandPré</td>\n      <td>4.57</td>\n      <td>0439785960</td>\n      <td>9780439785969</td>\n      <td>eng</td>\n      <td>652</td>\n      <td>2095690</td>\n      <td>27591</td>\n      <td>9/16/2006</td>\n      <td>Scholastic Inc.</td>\n      <td>609.0</td>\n      <td>22200.0</td>\n      <td>882.0</td>\n      <td>194.0</td>\n      <td>74.0</td>\n    </tr>\n    <tr>\n      <th>1</th>\n      <td>2</td>\n      <td>Harry Potter and the Order of the Phoenix (Har...</td>\n      <td>J.K. Rowling/Mary GrandPré</td>\n      <td>4.49</td>\n      <td>0439358078</td>\n      <td>9780439358071</td>\n      <td>eng</td>\n      <td>870</td>\n      <td>2153167</td>\n      <td>29221</td>\n      <td>9/1/2004</td>\n      <td>Scholastic Inc.</td>\n      <td>627.0</td>\n      <td>22200.0</td>\n      <td>1152.0</td>\n      <td>307.0</td>\n      <td>107.0</td>\n    </tr>\n    <tr>\n      <th>2</th>\n      <td>4</td>\n      <td>Harry Potter and the Chamber of Secrets (Harry...</td>\n      <td>J.K. Rowling</td>\n      <td>4.42</td>\n      <td>0439554896</td>\n      <td>9780439554893</td>\n      <td>eng</td>\n      <td>352</td>\n      <td>6333</td>\n      <td>244</td>\n      <td>11/1/2003</td>\n      <td>Scholastic</td>\n      <td>609.0</td>\n      <td>22200.0</td>\n      <td>745.0</td>\n      <td>483.0</td>\n      <td>127.0</td>\n    </tr>\n    <tr>\n      <th>3</th>\n      <td>5</td>\n      <td>Harry Potter and the Prisoner of Azkaban (Harr...</td>\n      <td>J.K. Rowling/Mary GrandPré</td>\n      <td>4.56</td>\n      <td>043965548X</td>\n      <td>9780439655484</td>\n      <td>eng</td>\n      <td>435</td>\n      <td>2339585</td>\n      <td>36325</td>\n      <td>5/1/2004</td>\n      <td>Scholastic Inc.</td>\n      <td>627.0</td>\n      <td>22200.0</td>\n      <td>747.0</td>\n      <td>417.0</td>\n      <td>121.0</td>\n    </tr>\n    <tr>\n      <th>4</th>\n      <td>8</td>\n      <td>Harry Potter Boxed Set  Books 1-5 (Harry Potte...</td>\n      <td>J.K. Rowling/Mary GrandPré</td>\n      <td>4.78</td>\n      <td>0439682584</td>\n      <td>9780439682589</td>\n      <td>eng</td>\n      <td>2690</td>\n      <td>41428</td>\n      <td>164</td>\n      <td>9/13/2004</td>\n      <td>Scholastic</td>\n      <td>627.0</td>\n      <td>22200.0</td>\n      <td>1.0</td>\n      <td>20.0</td>\n      <td>2.0</td>\n    </tr>\n    <tr>\n      <th>...</th>\n      <td>...</td>\n      <td>...</td>\n      <td>...</td>\n      <td>...</td>\n      <td>...</td>\n      <td>...</td>\n      <td>...</td>\n      <td>...</td>\n      <td>...</td>\n      <td>...</td>\n      <td>...</td>\n      <td>...</td>\n      <td>...</td>\n      <td>...</td>\n      <td>...</td>\n      <td>...</td>\n      <td>...</td>\n    </tr>\n    <tr>\n      <th>11118</th>\n      <td>45631</td>\n      <td>Expelled from Eden: A William T. Vollmann Reader</td>\n      <td>William T. Vollmann/Larry McCaffery/Michael He...</td>\n      <td>4.06</td>\n      <td>1560254416</td>\n      <td>9781560254416</td>\n      <td>eng</td>\n      <td>512</td>\n      <td>156</td>\n      <td>20</td>\n      <td>12/21/2004</td>\n      <td>Da Capo Press</td>\n      <td>85.0</td>\n      <td>1093.0</td>\n      <td>1.0</td>\n      <td>1.0</td>\n      <td>0.0</td>\n    </tr>\n    <tr>\n      <th>11119</th>\n      <td>45633</td>\n      <td>You Bright and Risen Angels</td>\n      <td>William T. Vollmann</td>\n      <td>4.08</td>\n      <td>0140110879</td>\n      <td>9780140110876</td>\n      <td>eng</td>\n      <td>635</td>\n      <td>783</td>\n      <td>56</td>\n      <td>12/1/1988</td>\n      <td>Penguin Books</td>\n      <td>85.0</td>\n      <td>1093.0</td>\n      <td>23.0</td>\n      <td>1.0</td>\n      <td>0.0</td>\n    </tr>\n    <tr>\n      <th>11120</th>\n      <td>45634</td>\n      <td>The Ice-Shirt (Seven Dreams #1)</td>\n      <td>William T. Vollmann</td>\n      <td>3.96</td>\n      <td>0140131965</td>\n      <td>9780140131963</td>\n      <td>eng</td>\n      <td>415</td>\n      <td>820</td>\n      <td>95</td>\n      <td>8/1/1993</td>\n      <td>Penguin Books</td>\n      <td>85.0</td>\n      <td>1093.0</td>\n      <td>9.0</td>\n      <td>16.0</td>\n      <td>0.0</td>\n    </tr>\n    <tr>\n      <th>11121</th>\n      <td>45639</td>\n      <td>Poor People</td>\n      <td>William T. Vollmann</td>\n      <td>3.72</td>\n      <td>0060878827</td>\n      <td>9780060878825</td>\n      <td>eng</td>\n      <td>434</td>\n      <td>769</td>\n      <td>139</td>\n      <td>2/27/2007</td>\n      <td>Ecco</td>\n      <td>85.0</td>\n      <td>1093.0</td>\n      <td>4.0</td>\n      <td>1.0</td>\n      <td>0.0</td>\n    </tr>\n    <tr>\n      <th>11122</th>\n      <td>45641</td>\n      <td>Las aventuras de Tom Sawyer</td>\n      <td>Mark Twain</td>\n      <td>3.91</td>\n      <td>8497646983</td>\n      <td>9788497646987</td>\n      <td>spa</td>\n      <td>272</td>\n      <td>113</td>\n      <td>12</td>\n      <td>5/28/2006</td>\n      <td>Edimat Libros</td>\n      <td>10100.0</td>\n      <td>17100.0</td>\n      <td>289.0</td>\n      <td>68.0</td>\n      <td>24.0</td>\n    </tr>\n  </tbody>\n</table>\n<p>11123 rows × 17 columns</p>\n</div>"
     },
     "execution_count": 39,
     "metadata": {},
     "output_type": "execute_result"
    }
   ],
   "source": [
    "merged_df = df_authors.merge(df_discussions, on='bookID', how='inner')\n",
    "merged_df"
   ],
   "metadata": {
    "collapsed": false,
    "pycharm": {
     "name": "#%%\n"
    }
   }
  },
  {
   "cell_type": "markdown",
   "source": [
    "### Save merged file"
   ],
   "metadata": {
    "collapsed": false,
    "pycharm": {
     "name": "#%% md\n"
    }
   }
  },
  {
   "cell_type": "code",
   "execution_count": 40,
   "outputs": [],
   "source": [
    "filename = f\"{BASE_PATH}/books_merged.csv\"\n",
    "merged_df.to_csv(filename, index=False)"
   ],
   "metadata": {
    "collapsed": false,
    "pycharm": {
     "name": "#%%\n"
    }
   }
  }
 ],
 "metadata": {
  "kernelspec": {
   "display_name": "Python 3",
   "language": "python",
   "name": "python3"
  },
  "language_info": {
   "codemirror_mode": {
    "name": "ipython",
    "version": 2
   },
   "file_extension": ".py",
   "mimetype": "text/x-python",
   "name": "python",
   "nbconvert_exporter": "python",
   "pygments_lexer": "ipython2",
   "version": "2.7.6"
  }
 },
 "nbformat": 4,
 "nbformat_minor": 0
}