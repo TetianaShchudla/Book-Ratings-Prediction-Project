{
 "cells": [
  {
   "cell_type": "markdown",
   "source": [
    "## Web scraping notebook: Discussion stats\n",
    "\n",
    "In this notebook we retrieve statistics for each bookID:\n",
    "    - number of quotes\n",
    "    - number of discussions\n",
    "    - number of questions"
   ],
   "metadata": {
    "collapsed": false,
    "pycharm": {
     "name": "#%% md\n"
    }
   }
  },
  {
   "cell_type": "markdown",
   "source": [
    "### Part 1: Scrape Data"
   ],
   "metadata": {
    "collapsed": false,
    "pycharm": {
     "name": "#%% md\n"
    }
   }
  },
  {
   "cell_type": "code",
   "execution_count": 98,
   "outputs": [],
   "source": [
    "import requests\n",
    "from bs4 import BeautifulSoup\n",
    "import pandas as pd"
   ],
   "metadata": {
    "collapsed": false,
    "pycharm": {
     "name": "#%%\n"
    }
   }
  },
  {
   "cell_type": "code",
   "execution_count": 99,
   "outputs": [],
   "source": [
    "BASE_PATH = \"../../data/raw/scraped\"\n",
    "filename = f\"{BASE_PATH}/discussion/books_discussion_1_27.csv\"\n",
    "iteration = 1"
   ],
   "metadata": {
    "collapsed": false,
    "pycharm": {
     "name": "#%%\n"
    }
   }
  },
  {
   "cell_type": "code",
   "execution_count": 100,
   "outputs": [],
   "source": [
    "# Load the latest csv\n",
    "df = pd.read_csv(filename, sep=',', on_bad_lines=\"warn\")"
   ],
   "metadata": {
    "collapsed": false,
    "pycharm": {
     "name": "#%%\n"
    }
   }
  },
  {
   "cell_type": "code",
   "execution_count": 101,
   "outputs": [
    {
     "data": {
      "text/plain": "Unnamed: 0.2          0\nUnnamed: 0.1          0\nUnnamed: 0            0\nbookID                0\ntitle                 0\nauthors               0\naverage_rating        0\nisbn                  0\nisbn13                0\nlanguage_code         0\nnum_pages             0\nratings_count         0\ntext_reviews_count    0\npublication_date      0\npublisher             0\nquotes                1\ndiscussions           1\nquestions             1\ndtype: int64"
     },
     "execution_count": 101,
     "metadata": {},
     "output_type": "execute_result"
    }
   ],
   "source": [
    "df.isnull().sum()"
   ],
   "metadata": {
    "collapsed": false,
    "pycharm": {
     "name": "#%%\n"
    }
   }
  },
  {
   "cell_type": "markdown",
   "source": [
    "### !! Warning run this only the first time you launch the scrapping"
   ],
   "metadata": {
    "collapsed": false,
    "pycharm": {
     "name": "#%% md\n"
    }
   }
  },
  {
   "cell_type": "code",
   "execution_count": 1,
   "outputs": [],
   "source": [
    "##if iteration == 1:\n",
    "#    df['quotes'] = np.nan\n",
    "#    df['discussions'] = np.nan\n",
    "#    df['questions'] = np.nan"
   ],
   "metadata": {
    "collapsed": false,
    "pycharm": {
     "name": "#%%\n"
    }
   }
  },
  {
   "cell_type": "code",
   "execution_count": 102,
   "outputs": [],
   "source": [
    "def missing_stats_indexes(df):\n",
    "    \"\"\" This function returns a list of indexes of rows where any of 'quotes', 'discussions' or 'questions' is missing in df.\n",
    "    \"\"\"\n",
    "    missing_quotes = df[df['quotes'].isnull()].index\n",
    "    missing_discussions = df[df['discussions'].isnull()].index\n",
    "    missing_questions = df[df['questions'].isnull()].index\n",
    "    missing_total_intersection = set(missing_quotes) & set(missing_discussions) & set(missing_questions)\n",
    "    return list(missing_total_intersection)\n",
    "\n",
    "def get_discussion_stats(ID, row_number):\n",
    "    \"\"\"This function returns quotes discussions and questions value scraped from goodreads for each bookID\n",
    "    :param ID: bookID to request on goodreads\n",
    "    :param row_number: row number in dataframe for console logging\n",
    "    \"\"\"\n",
    "    # Request url and get discussion stats\n",
    "    url = 'https://www.goodreads.com/book/show/' + str(ID)\n",
    "    r = requests.get(url)\n",
    "    soup = BeautifulSoup(r.content, 'html.parser')\n",
    "    discussion_stats = soup.findAll('div', class_='DiscussionCard__stats')\n",
    "\n",
    "    # Print logs\n",
    "    missing = missing_stats_indexes(df)\n",
    "    percentage = (len(missing)/ 11123) * 100\n",
    "    formatted_percentage = \"{:.2f}%\".format(percentage)\n",
    "    print(f\"{len(discussion_stats)} -- found on row : {row_number}  {formatted_percentage} missing\")\n",
    "\n",
    "    quotes = discussions = questions = None\n",
    "\n",
    "    if discussion_stats:\n",
    "        quotes = discussion_stats[0].text\n",
    "        if len(discussion_stats) > 1:\n",
    "            discussions = discussion_stats[1].text\n",
    "            if len(discussion_stats) > 2:\n",
    "                questions = discussion_stats[2].text\n",
    "    print(quotes, ' ', discussions, '  ',questions)\n",
    "    return quotes, discussions, questions"
   ],
   "metadata": {
    "collapsed": false,
    "pycharm": {
     "name": "#%%\n"
    }
   }
  },
  {
   "cell_type": "code",
   "execution_count": 103,
   "outputs": [
    {
     "name": "stdout",
     "output_type": "stream",
     "text": [
      "missed  1\n",
      "START SCRAPING ON WHOLE DATASET:\n",
      "0 -- found on row : 6396  0.01% missing\n",
      "None   None    None\n"
     ]
    }
   ],
   "source": [
    "# Get missing indexes to search\n",
    "missing = missing_stats_indexes(df)\n",
    "print(\"missed \",len(missing))\n",
    "\n",
    "# Save the actual version of 'df'\n",
    "filename = f\"{BASE_PATH}/discussion/books_discussion_{len(missing)}_{iteration}.csv\"\n",
    "df.to_csv(filename)\n",
    "\n",
    "# Start a new iteration of web scraping\n",
    "iteration+=1\n",
    "print(\"START SCRAPING ON WHOLE DATASET:\")\n",
    "for i in missing:\n",
    "    quotes, discussions, questions = get_discussion_stats(df['bookID'][i], row_number=i)\n",
    "\n",
    "    if not pd.isnull(quotes):\n",
    "        df.loc[i, 'quotes'] = quotes\n",
    "    if not pd.isnull(discussions):\n",
    "        df.loc[i, 'discussions'] = discussions\n",
    "    if not pd.isnull(questions):\n",
    "        df.loc[i, 'questions'] = questions\n",
    "\n",
    "# Save backup of the iteration\n",
    "#df.to_csv(f\"{BASE_PATH}/discussion/books_discussion_final_{iteration}.csv\")"
   ],
   "metadata": {
    "collapsed": false,
    "pycharm": {
     "name": "#%%\n"
    }
   }
  },
  {
   "cell_type": "markdown",
   "source": [
    "### Re execute the previous cell, until you get all needed data"
   ],
   "metadata": {
    "collapsed": false,
    "pycharm": {
     "name": "#%% md\n"
    }
   }
  },
  {
   "cell_type": "code",
   "execution_count": 104,
   "outputs": [],
   "source": [
    "# Save latest version\n",
    "df.to_csv(f\"{BASE_PATH}/discussion/books_discussion_latest.csv\")"
   ],
   "metadata": {
    "collapsed": false,
    "pycharm": {
     "name": "#%%\n"
    }
   }
  },
  {
   "cell_type": "markdown",
   "source": [
    "### Merge vincent's scrape with mine\n",
    "\n",
    "In order to accelerate the web scraping task, we share our results between two iterations from time to time."
   ],
   "metadata": {
    "collapsed": false,
    "pycharm": {
     "name": "#%% md\n"
    }
   }
  },
  {
   "cell_type": "code",
   "execution_count": 61,
   "outputs": [
    {
     "data": {
      "text/plain": "Unnamed: 0.3             0\nUnnamed: 0.2             0\nUnnamed: 0.1             0\nUnnamed: 0               0\nbookID                   0\ntitle                    0\nauthors                  0\naverage_rating           0\nisbn                     0\nisbn13                   0\nlanguage_code            0\nnum_pages                0\nratings_count            0\ntext_reviews_count       0\npublication_date         0\npublisher                0\nquotes                2806\ndiscussions           2806\nquestions             2806\ndtype: int64"
     },
     "execution_count": 61,
     "metadata": {},
     "output_type": "execute_result"
    }
   ],
   "source": [
    "df_vinz = pd.read_csv(\"discussion/books_discussion_final_6.csv\")\n",
    "df_vinz.isnull().sum()"
   ],
   "metadata": {
    "collapsed": false,
    "pycharm": {
     "name": "#%%\n"
    }
   }
  },
  {
   "cell_type": "code",
   "execution_count": 62,
   "outputs": [
    {
     "name": "stdout",
     "output_type": "stream",
     "text": [
      "8321 found by vincent\n",
      "883 missed by me\n"
     ]
    },
    {
     "data": {
      "text/plain": "145"
     },
     "execution_count": 62,
     "metadata": {},
     "output_type": "execute_result"
    }
   ],
   "source": [
    "found_by_vinz = df_vinz[df_vinz['quotes'].isnull() == False]\n",
    "missed_by_me= df[df['quotes'].isnull() == True].index\n",
    "common_indexes = set(found_by_vinz.index).intersection(missed_by_me)\n",
    "print(f\"{len(found_by_vinz)} found by vincent\")\n",
    "print(f\"{len(missed_by_me)} missed by me\")\n",
    "len(common_indexes)"
   ],
   "metadata": {
    "collapsed": false,
    "pycharm": {
     "name": "#%%\n"
    }
   }
  },
  {
   "cell_type": "code",
   "execution_count": 63,
   "outputs": [],
   "source": [
    "for i in common_indexes:\n",
    "    df.loc[i,'quotes'] = found_by_vinz.loc[i,'quotes']\n",
    "    df.loc[i,'discussions'] = found_by_vinz.loc[i,'discussions']\n",
    "    df.loc[i,'questions'] = found_by_vinz.loc[i,'questions']\n"
   ],
   "metadata": {
    "collapsed": false,
    "pycharm": {
     "name": "#%%\n"
    }
   }
  },
  {
   "cell_type": "code",
   "execution_count": 64,
   "outputs": [
    {
     "data": {
      "text/plain": "Unnamed: 0.1            0\nUnnamed: 0              0\nbookID                  0\ntitle                   0\nauthors                 0\naverage_rating          0\nisbn                    0\nisbn13                  0\nlanguage_code           0\nnum_pages               0\nratings_count           0\ntext_reviews_count      0\npublication_date        0\npublisher               0\nquotes                738\ndiscussions           738\nquestions             738\ndtype: int64"
     },
     "execution_count": 64,
     "metadata": {},
     "output_type": "execute_result"
    }
   ],
   "source": [
    "df.isnull().sum()"
   ],
   "metadata": {
    "collapsed": false,
    "pycharm": {
     "name": "#%%\n"
    }
   }
  },
  {
   "cell_type": "markdown",
   "source": [
    "### Part 2: Transform"
   ],
   "metadata": {
    "collapsed": false,
    "pycharm": {
     "name": "#%% md\n"
    }
   }
  },
  {
   "cell_type": "code",
   "execution_count": 105,
   "outputs": [
    {
     "name": "stdout",
     "output_type": "stream",
     "text": [
      "(11127, 19)\n"
     ]
    },
    {
     "data": {
      "text/plain": "   Unnamed: 0.3  Unnamed: 0.2  Unnamed: 0.1  Unnamed: 0  bookID  \\\n0             0             0             0           0       1   \n1             1             1             1           1       2   \n2             2             2             2           2       4   \n3             3             3             3           3       5   \n4             4             4             4           4       8   \n\n                                               title  \\\n0  Harry Potter and the Half-Blood Prince (Harry ...   \n1  Harry Potter and the Order of the Phoenix (Har...   \n2  Harry Potter and the Chamber of Secrets (Harry...   \n3  Harry Potter and the Prisoner of Azkaban (Harr...   \n4  Harry Potter Boxed Set  Books 1-5 (Harry Potte...   \n\n                      authors  average_rating        isbn         isbn13  \\\n0  J.K. Rowling/Mary GrandPré            4.57  0439785960  9780439785969   \n1  J.K. Rowling/Mary GrandPré            4.49  0439358078  9780439358071   \n2                J.K. Rowling            4.42  0439554896  9780439554893   \n3  J.K. Rowling/Mary GrandPré            4.56  043965548X  9780439655484   \n4  J.K. Rowling/Mary GrandPré            4.78  0439682584  9780439682589   \n\n  language_code  num_pages  ratings_count  text_reviews_count  \\\n0           eng        652        2095690               27591   \n1           eng        870        2153167               29221   \n2           eng        352           6333                 244   \n3           eng        435        2339585               36325   \n4           eng       2690          41428                 164   \n\n  publication_date        publisher quotes discussions questions  \n0        9/16/2006  Scholastic Inc.    882         194        74  \n1         9/1/2004  Scholastic Inc.  1,152         307       107  \n2        11/1/2003       Scholastic    745         483       127  \n3         5/1/2004  Scholastic Inc.    747         417       121  \n4        9/13/2004       Scholastic      1          20         2  ",
      "text/html": "<div>\n<style scoped>\n    .dataframe tbody tr th:only-of-type {\n        vertical-align: middle;\n    }\n\n    .dataframe tbody tr th {\n        vertical-align: top;\n    }\n\n    .dataframe thead th {\n        text-align: right;\n    }\n</style>\n<table border=\"1\" class=\"dataframe\">\n  <thead>\n    <tr style=\"text-align: right;\">\n      <th></th>\n      <th>Unnamed: 0.3</th>\n      <th>Unnamed: 0.2</th>\n      <th>Unnamed: 0.1</th>\n      <th>Unnamed: 0</th>\n      <th>bookID</th>\n      <th>title</th>\n      <th>authors</th>\n      <th>average_rating</th>\n      <th>isbn</th>\n      <th>isbn13</th>\n      <th>language_code</th>\n      <th>num_pages</th>\n      <th>ratings_count</th>\n      <th>text_reviews_count</th>\n      <th>publication_date</th>\n      <th>publisher</th>\n      <th>quotes</th>\n      <th>discussions</th>\n      <th>questions</th>\n    </tr>\n  </thead>\n  <tbody>\n    <tr>\n      <th>0</th>\n      <td>0</td>\n      <td>0</td>\n      <td>0</td>\n      <td>0</td>\n      <td>1</td>\n      <td>Harry Potter and the Half-Blood Prince (Harry ...</td>\n      <td>J.K. Rowling/Mary GrandPré</td>\n      <td>4.57</td>\n      <td>0439785960</td>\n      <td>9780439785969</td>\n      <td>eng</td>\n      <td>652</td>\n      <td>2095690</td>\n      <td>27591</td>\n      <td>9/16/2006</td>\n      <td>Scholastic Inc.</td>\n      <td>882</td>\n      <td>194</td>\n      <td>74</td>\n    </tr>\n    <tr>\n      <th>1</th>\n      <td>1</td>\n      <td>1</td>\n      <td>1</td>\n      <td>1</td>\n      <td>2</td>\n      <td>Harry Potter and the Order of the Phoenix (Har...</td>\n      <td>J.K. Rowling/Mary GrandPré</td>\n      <td>4.49</td>\n      <td>0439358078</td>\n      <td>9780439358071</td>\n      <td>eng</td>\n      <td>870</td>\n      <td>2153167</td>\n      <td>29221</td>\n      <td>9/1/2004</td>\n      <td>Scholastic Inc.</td>\n      <td>1,152</td>\n      <td>307</td>\n      <td>107</td>\n    </tr>\n    <tr>\n      <th>2</th>\n      <td>2</td>\n      <td>2</td>\n      <td>2</td>\n      <td>2</td>\n      <td>4</td>\n      <td>Harry Potter and the Chamber of Secrets (Harry...</td>\n      <td>J.K. Rowling</td>\n      <td>4.42</td>\n      <td>0439554896</td>\n      <td>9780439554893</td>\n      <td>eng</td>\n      <td>352</td>\n      <td>6333</td>\n      <td>244</td>\n      <td>11/1/2003</td>\n      <td>Scholastic</td>\n      <td>745</td>\n      <td>483</td>\n      <td>127</td>\n    </tr>\n    <tr>\n      <th>3</th>\n      <td>3</td>\n      <td>3</td>\n      <td>3</td>\n      <td>3</td>\n      <td>5</td>\n      <td>Harry Potter and the Prisoner of Azkaban (Harr...</td>\n      <td>J.K. Rowling/Mary GrandPré</td>\n      <td>4.56</td>\n      <td>043965548X</td>\n      <td>9780439655484</td>\n      <td>eng</td>\n      <td>435</td>\n      <td>2339585</td>\n      <td>36325</td>\n      <td>5/1/2004</td>\n      <td>Scholastic Inc.</td>\n      <td>747</td>\n      <td>417</td>\n      <td>121</td>\n    </tr>\n    <tr>\n      <th>4</th>\n      <td>4</td>\n      <td>4</td>\n      <td>4</td>\n      <td>4</td>\n      <td>8</td>\n      <td>Harry Potter Boxed Set  Books 1-5 (Harry Potte...</td>\n      <td>J.K. Rowling/Mary GrandPré</td>\n      <td>4.78</td>\n      <td>0439682584</td>\n      <td>9780439682589</td>\n      <td>eng</td>\n      <td>2690</td>\n      <td>41428</td>\n      <td>164</td>\n      <td>9/13/2004</td>\n      <td>Scholastic</td>\n      <td>1</td>\n      <td>20</td>\n      <td>2</td>\n    </tr>\n  </tbody>\n</table>\n</div>"
     },
     "execution_count": 105,
     "metadata": {},
     "output_type": "execute_result"
    }
   ],
   "source": [
    "# Load the latest csv\n",
    "filename = f\"{BASE_PATH}/discussion/books_discussion_latest.csv\"\n",
    "df_final = pd.read_csv(filename, sep=',', on_bad_lines=\"warn\")\n",
    "print(df_final.shape)\n",
    "df_final.head()"
   ],
   "metadata": {
    "collapsed": false,
    "pycharm": {
     "name": "#%%\n"
    }
   }
  },
  {
   "cell_type": "markdown",
   "source": [
    "During scraping, some useless unnamed columns containing indexes were added, let's drop them"
   ],
   "metadata": {
    "collapsed": false,
    "pycharm": {
     "name": "#%% md\n"
    }
   }
  },
  {
   "cell_type": "code",
   "execution_count": 107,
   "outputs": [],
   "source": [
    "df_final.drop(columns=['Unnamed: 0', 'Unnamed: 0.1', 'Unnamed: 0.2', 'Unnamed: 0.3' ], inplace=True)"
   ],
   "metadata": {
    "collapsed": false,
    "pycharm": {
     "name": "#%%\n"
    }
   }
  },
  {
   "cell_type": "code",
   "execution_count": 108,
   "outputs": [
    {
     "data": {
      "text/plain": "             bookID  average_rating        isbn13     num_pages  \\\ncount  11127.000000    11127.000000  1.112700e+04  11127.000000   \nmean   21310.938887        3.933631  9.759888e+12    336.376921   \nstd    13093.358023        0.352445  4.428964e+11    241.127305   \nmin        1.000000        0.000000  8.987060e+09      0.000000   \n25%    10287.000000        3.770000  9.780345e+12    192.000000   \n50%    20287.000000        3.960000  9.780586e+12    299.000000   \n75%    32104.500000        4.135000  9.780873e+12    416.000000   \nmax    45641.000000        5.000000  9.790008e+12   6576.000000   \n\n       ratings_count  text_reviews_count  \ncount   1.112700e+04        11127.000000  \nmean    1.793641e+04          541.854498  \nstd     1.124794e+05         2576.176608  \nmin     0.000000e+00            0.000000  \n25%     1.040000e+02            9.000000  \n50%     7.450000e+02           46.000000  \n75%     4.993500e+03          237.500000  \nmax     4.597666e+06        94265.000000  ",
      "text/html": "<div>\n<style scoped>\n    .dataframe tbody tr th:only-of-type {\n        vertical-align: middle;\n    }\n\n    .dataframe tbody tr th {\n        vertical-align: top;\n    }\n\n    .dataframe thead th {\n        text-align: right;\n    }\n</style>\n<table border=\"1\" class=\"dataframe\">\n  <thead>\n    <tr style=\"text-align: right;\">\n      <th></th>\n      <th>bookID</th>\n      <th>average_rating</th>\n      <th>isbn13</th>\n      <th>num_pages</th>\n      <th>ratings_count</th>\n      <th>text_reviews_count</th>\n    </tr>\n  </thead>\n  <tbody>\n    <tr>\n      <th>count</th>\n      <td>11127.000000</td>\n      <td>11127.000000</td>\n      <td>1.112700e+04</td>\n      <td>11127.000000</td>\n      <td>1.112700e+04</td>\n      <td>11127.000000</td>\n    </tr>\n    <tr>\n      <th>mean</th>\n      <td>21310.938887</td>\n      <td>3.933631</td>\n      <td>9.759888e+12</td>\n      <td>336.376921</td>\n      <td>1.793641e+04</td>\n      <td>541.854498</td>\n    </tr>\n    <tr>\n      <th>std</th>\n      <td>13093.358023</td>\n      <td>0.352445</td>\n      <td>4.428964e+11</td>\n      <td>241.127305</td>\n      <td>1.124794e+05</td>\n      <td>2576.176608</td>\n    </tr>\n    <tr>\n      <th>min</th>\n      <td>1.000000</td>\n      <td>0.000000</td>\n      <td>8.987060e+09</td>\n      <td>0.000000</td>\n      <td>0.000000e+00</td>\n      <td>0.000000</td>\n    </tr>\n    <tr>\n      <th>25%</th>\n      <td>10287.000000</td>\n      <td>3.770000</td>\n      <td>9.780345e+12</td>\n      <td>192.000000</td>\n      <td>1.040000e+02</td>\n      <td>9.000000</td>\n    </tr>\n    <tr>\n      <th>50%</th>\n      <td>20287.000000</td>\n      <td>3.960000</td>\n      <td>9.780586e+12</td>\n      <td>299.000000</td>\n      <td>7.450000e+02</td>\n      <td>46.000000</td>\n    </tr>\n    <tr>\n      <th>75%</th>\n      <td>32104.500000</td>\n      <td>4.135000</td>\n      <td>9.780873e+12</td>\n      <td>416.000000</td>\n      <td>4.993500e+03</td>\n      <td>237.500000</td>\n    </tr>\n    <tr>\n      <th>max</th>\n      <td>45641.000000</td>\n      <td>5.000000</td>\n      <td>9.790008e+12</td>\n      <td>6576.000000</td>\n      <td>4.597666e+06</td>\n      <td>94265.000000</td>\n    </tr>\n  </tbody>\n</table>\n</div>"
     },
     "execution_count": 108,
     "metadata": {},
     "output_type": "execute_result"
    }
   ],
   "source": [
    "df_final.describe()"
   ],
   "metadata": {
    "collapsed": false,
    "pycharm": {
     "name": "#%%\n"
    }
   }
  },
  {
   "cell_type": "code",
   "execution_count": 109,
   "outputs": [
    {
     "data": {
      "text/plain": "bookID                  int64\ntitle                  object\nauthors                object\naverage_rating        float64\nisbn                   object\nisbn13                  int64\nlanguage_code          object\nnum_pages               int64\nratings_count           int64\ntext_reviews_count      int64\npublication_date       object\npublisher              object\nquotes                 object\ndiscussions            object\nquestions              object\ndtype: object"
     },
     "execution_count": 109,
     "metadata": {},
     "output_type": "execute_result"
    }
   ],
   "source": [
    "# Added columns: quotes, discussions and questions do not figure in describe, because they are not numerical.\n",
    "df_final.dtypes"
   ],
   "metadata": {
    "collapsed": false,
    "pycharm": {
     "name": "#%%\n"
    }
   }
  },
  {
   "cell_type": "code",
   "execution_count": 111,
   "outputs": [
    {
     "data": {
      "text/plain": "quotes\nAdd      4071\n1         863\n2         443\n3         392\n4         299\n         ... \n747         1\n425         1\n672         1\n301         1\n1,641       1\nName: count, Length: 482, dtype: int64"
     },
     "execution_count": 111,
     "metadata": {},
     "output_type": "execute_result"
    }
   ],
   "source": [
    "# we notice 'Add' value when there is no quote, replace it by '0'\n",
    "df_final['quotes'].value_counts()"
   ],
   "metadata": {
    "collapsed": false,
    "pycharm": {
     "name": "#%%\n"
    }
   }
  },
  {
   "cell_type": "code",
   "execution_count": 113,
   "outputs": [
    {
     "data": {
      "text/plain": "discussions\nStart    5198\n1        1425\n2         725\n3         439\n4         314\n         ... \n128         1\n870         1\n314         1\n1,048       1\n1,047       1\nName: count, Length: 233, dtype: int64"
     },
     "execution_count": 113,
     "metadata": {},
     "output_type": "execute_result"
    }
   ],
   "source": [
    "# Same for discussions, 'Start' means 0 discussions\n",
    "df_final['discussions'].value_counts()"
   ],
   "metadata": {
    "collapsed": false,
    "pycharm": {
     "name": "#%%\n"
    }
   }
  },
  {
   "cell_type": "code",
   "execution_count": 114,
   "outputs": [
    {
     "data": {
      "text/plain": "questions\nAsk    5706\n1      1676\n2       783\n3       480\n4       340\n       ... \n40        1\n63        1\n61        1\n60        1\n245       1\nName: count, Length: 112, dtype: int64"
     },
     "execution_count": 114,
     "metadata": {},
     "output_type": "execute_result"
    }
   ],
   "source": [
    "# 'Ask' means 0 questions\n",
    "df_final['questions'].value_counts()"
   ],
   "metadata": {
    "collapsed": false,
    "pycharm": {
     "name": "#%%\n"
    }
   }
  },
  {
   "cell_type": "markdown",
   "source": [
    "### Replace Add, Start and Ask by 0, and at the same time remove ',' from other values (1,552 -> 1552)"
   ],
   "metadata": {
    "collapsed": false,
    "pycharm": {
     "name": "#%% md\n"
    }
   }
  },
  {
   "cell_type": "code",
   "execution_count": 122,
   "outputs": [
    {
     "data": {
      "text/plain": "quotes\n0       4071\n1        863\n2        443\n3        392\n4        299\n        ... \n747        1\n425        1\n672        1\n301        1\n1641       1\nName: count, Length: 482, dtype: int64"
     },
     "execution_count": 122,
     "metadata": {},
     "output_type": "execute_result"
    }
   ],
   "source": [
    "df_final['quotes'] = df_final['quotes'].str.replace('Add', '0').str.replace(',', '')\n",
    "df_final['quotes'].value_counts()"
   ],
   "metadata": {
    "collapsed": false,
    "pycharm": {
     "name": "#%%\n"
    }
   }
  },
  {
   "cell_type": "code",
   "execution_count": 123,
   "outputs": [
    {
     "data": {
      "text/plain": "discussions\n0       5198\n1       1425\n2        725\n3        439\n4        314\n        ... \n128        1\n870        1\n314        1\n1048       1\n1047       1\nName: count, Length: 233, dtype: int64"
     },
     "execution_count": 123,
     "metadata": {},
     "output_type": "execute_result"
    }
   ],
   "source": [
    "df_final['discussions'] = df_final['discussions'].str.replace('Start', '0').str.replace(',', '')\n",
    "df_final['discussions'].value_counts()"
   ],
   "metadata": {
    "collapsed": false,
    "pycharm": {
     "name": "#%%\n"
    }
   }
  },
  {
   "cell_type": "code",
   "execution_count": 124,
   "outputs": [
    {
     "data": {
      "text/plain": "questions\n0      5706\n1      1676\n2       783\n3       480\n4       340\n       ... \n40        1\n63        1\n61        1\n60        1\n245       1\nName: count, Length: 112, dtype: int64"
     },
     "execution_count": 124,
     "metadata": {},
     "output_type": "execute_result"
    }
   ],
   "source": [
    "df_final['questions'] = df_final['questions'].str.replace('Ask', '0').str.replace(',', '')\n",
    "df_final['questions'].value_counts()"
   ],
   "metadata": {
    "collapsed": false,
    "pycharm": {
     "name": "#%%\n"
    }
   }
  },
  {
   "cell_type": "markdown",
   "source": [
    "#### Convert the columns type from object to int"
   ],
   "metadata": {
    "collapsed": false,
    "pycharm": {
     "name": "#%% md\n"
    }
   }
  },
  {
   "cell_type": "code",
   "execution_count": 125,
   "outputs": [
    {
     "data": {
      "text/plain": "bookID                  int64\ntitle                  object\nauthors                object\naverage_rating        float64\nisbn                   object\nisbn13                  int64\nlanguage_code          object\nnum_pages               int64\nratings_count           int64\ntext_reviews_count      int64\npublication_date       object\npublisher              object\nquotes                float64\ndiscussions           float64\nquestions             float64\ndtype: object"
     },
     "execution_count": 125,
     "metadata": {},
     "output_type": "execute_result"
    }
   ],
   "source": [
    "df_final['quotes'] = pd.to_numeric(df_final['quotes'], errors='coerce')\n",
    "df_final['discussions'] = pd.to_numeric(df_final['discussions'], errors='coerce')\n",
    "df_final['questions'] = pd.to_numeric(df_final['questions'], errors='coerce')\n",
    "df_final.dtypes"
   ],
   "metadata": {
    "collapsed": false,
    "pycharm": {
     "name": "#%%\n"
    }
   }
  },
  {
   "cell_type": "code",
   "execution_count": 127,
   "outputs": [
    {
     "data": {
      "text/plain": "             bookID  average_rating        isbn13     num_pages  \\\ncount  11127.000000    11127.000000  1.112700e+04  11127.000000   \nmean   21310.938887        3.933631  9.759888e+12    336.376921   \nstd    13093.358023        0.352445  4.428964e+11    241.127305   \nmin        1.000000        0.000000  8.987060e+09      0.000000   \n25%    10287.000000        3.770000  9.780345e+12    192.000000   \n50%    20287.000000        3.960000  9.780586e+12    299.000000   \n75%    32104.500000        4.135000  9.780873e+12    416.000000   \nmax    45641.000000        5.000000  9.790008e+12   6576.000000   \n\n       ratings_count  text_reviews_count        quotes   discussions  \\\ncount   1.112700e+04        11127.000000  11126.000000  11126.000000   \nmean    1.793641e+04          541.854498     68.099676     18.728564   \nstd     1.124794e+05         2576.176608    225.334775     76.414218   \nmin     0.000000e+00            0.000000      0.000000      0.000000   \n25%     1.040000e+02            9.000000      0.000000      0.000000   \n50%     7.450000e+02           46.000000      3.000000      1.000000   \n75%     4.993500e+03          237.500000     29.000000      5.000000   \nmax     4.597666e+06        94265.000000   2801.000000   1824.000000   \n\n          questions  \ncount  11126.000000  \nmean       5.830937  \nstd       20.968859  \nmin        0.000000  \n25%        0.000000  \n50%        0.000000  \n75%        3.000000  \nmax      553.000000  ",
      "text/html": "<div>\n<style scoped>\n    .dataframe tbody tr th:only-of-type {\n        vertical-align: middle;\n    }\n\n    .dataframe tbody tr th {\n        vertical-align: top;\n    }\n\n    .dataframe thead th {\n        text-align: right;\n    }\n</style>\n<table border=\"1\" class=\"dataframe\">\n  <thead>\n    <tr style=\"text-align: right;\">\n      <th></th>\n      <th>bookID</th>\n      <th>average_rating</th>\n      <th>isbn13</th>\n      <th>num_pages</th>\n      <th>ratings_count</th>\n      <th>text_reviews_count</th>\n      <th>quotes</th>\n      <th>discussions</th>\n      <th>questions</th>\n    </tr>\n  </thead>\n  <tbody>\n    <tr>\n      <th>count</th>\n      <td>11127.000000</td>\n      <td>11127.000000</td>\n      <td>1.112700e+04</td>\n      <td>11127.000000</td>\n      <td>1.112700e+04</td>\n      <td>11127.000000</td>\n      <td>11126.000000</td>\n      <td>11126.000000</td>\n      <td>11126.000000</td>\n    </tr>\n    <tr>\n      <th>mean</th>\n      <td>21310.938887</td>\n      <td>3.933631</td>\n      <td>9.759888e+12</td>\n      <td>336.376921</td>\n      <td>1.793641e+04</td>\n      <td>541.854498</td>\n      <td>68.099676</td>\n      <td>18.728564</td>\n      <td>5.830937</td>\n    </tr>\n    <tr>\n      <th>std</th>\n      <td>13093.358023</td>\n      <td>0.352445</td>\n      <td>4.428964e+11</td>\n      <td>241.127305</td>\n      <td>1.124794e+05</td>\n      <td>2576.176608</td>\n      <td>225.334775</td>\n      <td>76.414218</td>\n      <td>20.968859</td>\n    </tr>\n    <tr>\n      <th>min</th>\n      <td>1.000000</td>\n      <td>0.000000</td>\n      <td>8.987060e+09</td>\n      <td>0.000000</td>\n      <td>0.000000e+00</td>\n      <td>0.000000</td>\n      <td>0.000000</td>\n      <td>0.000000</td>\n      <td>0.000000</td>\n    </tr>\n    <tr>\n      <th>25%</th>\n      <td>10287.000000</td>\n      <td>3.770000</td>\n      <td>9.780345e+12</td>\n      <td>192.000000</td>\n      <td>1.040000e+02</td>\n      <td>9.000000</td>\n      <td>0.000000</td>\n      <td>0.000000</td>\n      <td>0.000000</td>\n    </tr>\n    <tr>\n      <th>50%</th>\n      <td>20287.000000</td>\n      <td>3.960000</td>\n      <td>9.780586e+12</td>\n      <td>299.000000</td>\n      <td>7.450000e+02</td>\n      <td>46.000000</td>\n      <td>3.000000</td>\n      <td>1.000000</td>\n      <td>0.000000</td>\n    </tr>\n    <tr>\n      <th>75%</th>\n      <td>32104.500000</td>\n      <td>4.135000</td>\n      <td>9.780873e+12</td>\n      <td>416.000000</td>\n      <td>4.993500e+03</td>\n      <td>237.500000</td>\n      <td>29.000000</td>\n      <td>5.000000</td>\n      <td>3.000000</td>\n    </tr>\n    <tr>\n      <th>max</th>\n      <td>45641.000000</td>\n      <td>5.000000</td>\n      <td>9.790008e+12</td>\n      <td>6576.000000</td>\n      <td>4.597666e+06</td>\n      <td>94265.000000</td>\n      <td>2801.000000</td>\n      <td>1824.000000</td>\n      <td>553.000000</td>\n    </tr>\n  </tbody>\n</table>\n</div>"
     },
     "execution_count": 127,
     "metadata": {},
     "output_type": "execute_result"
    }
   ],
   "source": [
    "df_final.describe()"
   ],
   "metadata": {
    "collapsed": false,
    "pycharm": {
     "name": "#%%\n"
    }
   }
  },
  {
   "cell_type": "markdown",
   "source": [
    " ### Save df_final"
   ],
   "metadata": {
    "collapsed": false,
    "pycharm": {
     "name": "#%% md\n"
    }
   }
  },
  {
   "cell_type": "code",
   "execution_count": 128,
   "outputs": [],
   "source": [
    "filename = f\"{BASE_PATH}/discussion/books_discussion_latest_cleaned.csv\"\n",
    "df_final.to_csv(filename)"
   ],
   "metadata": {
    "collapsed": false,
    "pycharm": {
     "name": "#%%\n"
    }
   }
  }
 ],
 "metadata": {
  "kernelspec": {
   "name": "python3.10.10",
   "language": "python",
   "display_name": "python3.10.10"
  },
  "language_info": {
   "codemirror_mode": {
    "name": "ipython",
    "version": 3
   },
   "file_extension": ".py",
   "mimetype": "text/x-python",
   "name": "python",
   "nbconvert_exporter": "python",
   "pygments_lexer": "ipython3",
   "version": "3.9.13"
  }
 },
 "nbformat": 4,
 "nbformat_minor": 5
}