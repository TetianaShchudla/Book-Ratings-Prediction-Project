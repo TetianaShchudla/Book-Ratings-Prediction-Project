{
 "cells": [
  {
   "cell_type": "markdown",
   "source": [
    "## Web scraping notebook\n",
    "\n",
    "In this notebook we scrape goodreads website, using bookID to find the number of written books by the author and the number followers of the author\n"
   ],
   "metadata": {
    "collapsed": false,
    "pycharm": {
     "name": "#%% md\n"
    }
   }
  },
  {
   "cell_type": "markdown",
   "source": [
    "### Install and import dependencies"
   ],
   "metadata": {
    "collapsed": false,
    "pycharm": {
     "name": "#%% md\n"
    }
   }
  },
  {
   "cell_type": "markdown",
   "source": [
    "! pip install requests bs4 pandas numpy"
   ],
   "metadata": {
    "collapsed": false,
    "pycharm": {
     "name": "#%% md\n"
    }
   }
  },
  {
   "cell_type": "code",
   "execution_count": null,
   "outputs": [],
   "source": [
    "import numpy as np\n",
    "import pandas as pd\n",
    "import requests\n",
    "from bs4 import BeautifulSoup"
   ],
   "metadata": {
    "collapsed": false,
    "pycharm": {
     "name": "#%%\n"
    }
   }
  },
  {
   "cell_type": "markdown",
   "source": [
    "### Part 1: Scrape Data"
   ],
   "metadata": {
    "collapsed": false,
    "pycharm": {
     "name": "#%% md\n"
    }
   }
  },
  {
   "cell_type": "markdown",
   "source": [
    "#### Read dataset"
   ],
   "metadata": {
    "collapsed": false,
    "pycharm": {
     "name": "#%% md\n"
    }
   }
  },
  {
   "cell_type": "code",
   "execution_count": 204,
   "outputs": [],
   "source": [
    "version = 0\n",
    "filename = '../../data/raw/scraped/books_written_followers_latest.csv'\n",
    "#filename = f\"../../data/raw/scraped/books_written_followers_version_{version}.csv\"\n",
    "df = pd.read_csv(filename, sep=',',  on_bad_lines='warn')"
   ],
   "metadata": {
    "collapsed": false,
    "pycharm": {
     "name": "#%%\n"
    }
   }
  },
  {
   "cell_type": "markdown",
   "source": [
    "### Verify how many missing values on the column to update and get the indexes\n"
   ],
   "metadata": {
    "collapsed": false,
    "pycharm": {
     "name": "#%% md\n"
    }
   }
  },
  {
   "cell_type": "code",
   "execution_count": 209,
   "id": "ae2caa7a-aa9a-41b6-854a-26cae0d92541",
   "metadata": {
    "pycharm": {
     "name": "#%%\n"
    }
   },
   "outputs": [
    {
     "name": "stdout",
     "output_type": "stream",
     "text": [
      "(5,)\n"
     ]
    }
   ],
   "source": [
    "# Initialize the books_written_and_followers column\n",
    "if \"books_written_and_followers\" not in df.columns:\n",
    "    df['books_written_and_followers']=np.nan\n",
    "\n",
    "# replace empty strings if exists by NaN\n",
    "df['books_written_and_followers'] = df['books_written_and_followers'].replace('',np.nan)\n",
    "\n",
    "missing = df[df[\"books_written_and_followers\"].isnull()].index\n",
    "print(missing.shape)\n",
    "version = missing.shape[0]"
   ]
  },
  {
   "cell_type": "markdown",
   "source": [
    "#### Iterate over indexes of rows where missing values"
   ],
   "metadata": {
    "collapsed": false,
    "pycharm": {
     "name": "#%% md\n"
    }
   }
  },
  {
   "cell_type": "code",
   "execution_count": 210,
   "outputs": [
    {
     "name": "stdout",
     "output_type": "stream",
     "text": [
      "--  1271\n",
      "None\n",
      "--  5555\n",
      "\n",
      "--  6393\n",
      "None\n",
      "--  6900\n",
      "None\n",
      "--  10355\n",
      "\n"
     ]
    }
   ],
   "source": [
    "for i in missing:\n",
    "    # Get the bookID\n",
    "    ID = df['bookID'][i]\n",
    "    url = 'https://www.goodreads.com/book/show/' + str(ID)\n",
    "\n",
    "    # Request the url\n",
    "    r = requests.get(url)\n",
    "\n",
    "    # Find the text in returned html\n",
    "    soup = BeautifulSoup(r.content, 'html.parser')\n",
    "    s = soup.find('div', class_='FeaturedPerson__infoPrimary')\n",
    "    try:\n",
    "        t = s.find('span', {'class': 'Text Text__body3 Text__subdued'})\n",
    "    except AttributeError:\n",
    "        t = None\n",
    "    books_written = None\n",
    "    if t is not None:\n",
    "        books_written = t.text\n",
    "    df.loc[i, 'books_written_and_followers'] = books_written\n",
    "\n",
    "    print(\"-- \", i)\n",
    "    print(books_written)\n",
    "\n",
    "#df.to_csv(f\"../../data/raw/scraped/books_written_followers_version_{version}.csv\")"
   ],
   "metadata": {
    "collapsed": false,
    "pycharm": {
     "name": "#%%\n"
    }
   }
  },
  {
   "cell_type": "markdown",
   "source": [
    "#### Check how many missing values"
   ],
   "metadata": {
    "collapsed": false,
    "pycharm": {
     "name": "#%% md\n"
    }
   }
  },
  {
   "cell_type": "code",
   "execution_count": 211,
   "outputs": [
    {
     "data": {
      "text/plain": "Unnamed: 0.1                   0\nUnnamed: 0                     0\nbookID                         0\ntitle                          0\nauthors                        0\naverage_rating                 0\nisbn                           0\nisbn13                         0\nlanguage_code                  0\n  num_pages                    0\nratings_count                  0\ntext_reviews_count             0\npublication_date               0\npublisher                      0\nbooks_written_and_followers    5\ndtype: int64"
     },
     "execution_count": 211,
     "metadata": {},
     "output_type": "execute_result"
    }
   ],
   "source": [
    "# replace empty strings if exists by NaN\n",
    "df['books_written_and_followers'] = df['books_written_and_followers'].replace('',np.nan)\n",
    "df.isnull().sum()"
   ],
   "metadata": {
    "collapsed": false,
    "pycharm": {
     "name": "#%%\n"
    }
   }
  },
  {
   "cell_type": "markdown",
   "source": [
    "#### Save to csv"
   ],
   "metadata": {
    "collapsed": false,
    "pycharm": {
     "name": "#%% md\n"
    }
   }
  },
  {
   "cell_type": "code",
   "execution_count": null,
   "outputs": [],
   "source": [
    "df.to_csv(f\"../../data/raw/scraped/books_written_followers_version_{version}.csv\")\n",
    "# when finished save into latest\n",
    "#df.to_csv(f\"../../data/raw/scraped/books_written_followers_latest.csv\")"
   ],
   "metadata": {
    "collapsed": false,
    "pycharm": {
     "name": "#%%\n"
    }
   }
  },
  {
   "cell_type": "markdown",
   "source": [
    "#### Run the previous steps until you get all the needed data"
   ],
   "metadata": {
    "collapsed": false,
    "pycharm": {
     "name": "#%% md\n"
    }
   }
  },
  {
   "cell_type": "markdown",
   "source": [
    "At the end, there still 5 rows that couldn't be retrieved by the code above, we consider them as missing values to impute on the preprocessing pipeline."
   ],
   "metadata": {
    "collapsed": false,
    "pycharm": {
     "name": "#%% md\n"
    }
   }
  },
  {
   "cell_type": "markdown",
   "source": [
    "### Part 2:"
   ],
   "metadata": {
    "collapsed": false,
    "pycharm": {
     "name": "#%% md\n"
    }
   }
  },
  {
   "cell_type": "markdown",
   "source": [
    "#### Transform scraped data\n",
    "\n",
    "Let's separate the two features we scraped from the web; written_books and followers"
   ],
   "metadata": {
    "collapsed": false,
    "pycharm": {
     "name": "#%% md\n"
    }
   }
  },
  {
   "cell_type": "code",
   "execution_count": 223,
   "outputs": [
    {
     "data": {
      "text/plain": "(11123, 15)"
     },
     "execution_count": 223,
     "metadata": {},
     "output_type": "execute_result"
    }
   ],
   "source": [
    "filename = \"../../data/raw/scraped/books_written_followers_latest.csv\"\n",
    "df_final = pd.read_csv(filename, sep=',',  on_bad_lines='warn')\n",
    "df_final.shape"
   ],
   "metadata": {
    "collapsed": false,
    "pycharm": {
     "name": "#%%\n"
    }
   }
  },
  {
   "cell_type": "code",
   "execution_count": 224,
   "outputs": [
    {
     "data": {
      "text/plain": "   Unnamed: 0.1  Unnamed: 0  bookID  \\\n0             0           0       1   \n1             1           1       2   \n2             2           2       4   \n3             3           3       5   \n4             4           4       8   \n\n                                               title  \\\n0  Harry Potter and the Half-Blood Prince (Harry ...   \n1  Harry Potter and the Order of the Phoenix (Har...   \n2  Harry Potter and the Chamber of Secrets (Harry...   \n3  Harry Potter and the Prisoner of Azkaban (Harr...   \n4  Harry Potter Boxed Set  Books 1-5 (Harry Potte...   \n\n                      authors  average_rating        isbn         isbn13  \\\n0  J.K. Rowling/Mary GrandPré            4.57  0439785960  9780439785969   \n1  J.K. Rowling/Mary GrandPré            4.49  0439358078  9780439358071   \n2                J.K. Rowling            4.42  0439554896  9780439554893   \n3  J.K. Rowling/Mary GrandPré            4.56  043965548X  9780439655484   \n4  J.K. Rowling/Mary GrandPré            4.78  0439682584  9780439682589   \n\n  language_code    num_pages  ratings_count  text_reviews_count  \\\n0           eng          652        2095690               27591   \n1           eng          870        2153167               29221   \n2           eng          352           6333                 244   \n3           eng          435        2339585               36325   \n4           eng         2690          41428                 164   \n\n  publication_date        publisher books_written_and_followers  \n0        9/16/2006  Scholastic Inc.     609 books222k followers  \n1         9/1/2004  Scholastic Inc.     627 books222k followers  \n2        11/1/2003       Scholastic     609 books222k followers  \n3         5/1/2004  Scholastic Inc.     627 books222k followers  \n4        9/13/2004       Scholastic     627 books222k followers  ",
      "text/html": "<div>\n<style scoped>\n    .dataframe tbody tr th:only-of-type {\n        vertical-align: middle;\n    }\n\n    .dataframe tbody tr th {\n        vertical-align: top;\n    }\n\n    .dataframe thead th {\n        text-align: right;\n    }\n</style>\n<table border=\"1\" class=\"dataframe\">\n  <thead>\n    <tr style=\"text-align: right;\">\n      <th></th>\n      <th>Unnamed: 0.1</th>\n      <th>Unnamed: 0</th>\n      <th>bookID</th>\n      <th>title</th>\n      <th>authors</th>\n      <th>average_rating</th>\n      <th>isbn</th>\n      <th>isbn13</th>\n      <th>language_code</th>\n      <th>num_pages</th>\n      <th>ratings_count</th>\n      <th>text_reviews_count</th>\n      <th>publication_date</th>\n      <th>publisher</th>\n      <th>books_written_and_followers</th>\n    </tr>\n  </thead>\n  <tbody>\n    <tr>\n      <th>0</th>\n      <td>0</td>\n      <td>0</td>\n      <td>1</td>\n      <td>Harry Potter and the Half-Blood Prince (Harry ...</td>\n      <td>J.K. Rowling/Mary GrandPré</td>\n      <td>4.57</td>\n      <td>0439785960</td>\n      <td>9780439785969</td>\n      <td>eng</td>\n      <td>652</td>\n      <td>2095690</td>\n      <td>27591</td>\n      <td>9/16/2006</td>\n      <td>Scholastic Inc.</td>\n      <td>609 books222k followers</td>\n    </tr>\n    <tr>\n      <th>1</th>\n      <td>1</td>\n      <td>1</td>\n      <td>2</td>\n      <td>Harry Potter and the Order of the Phoenix (Har...</td>\n      <td>J.K. Rowling/Mary GrandPré</td>\n      <td>4.49</td>\n      <td>0439358078</td>\n      <td>9780439358071</td>\n      <td>eng</td>\n      <td>870</td>\n      <td>2153167</td>\n      <td>29221</td>\n      <td>9/1/2004</td>\n      <td>Scholastic Inc.</td>\n      <td>627 books222k followers</td>\n    </tr>\n    <tr>\n      <th>2</th>\n      <td>2</td>\n      <td>2</td>\n      <td>4</td>\n      <td>Harry Potter and the Chamber of Secrets (Harry...</td>\n      <td>J.K. Rowling</td>\n      <td>4.42</td>\n      <td>0439554896</td>\n      <td>9780439554893</td>\n      <td>eng</td>\n      <td>352</td>\n      <td>6333</td>\n      <td>244</td>\n      <td>11/1/2003</td>\n      <td>Scholastic</td>\n      <td>609 books222k followers</td>\n    </tr>\n    <tr>\n      <th>3</th>\n      <td>3</td>\n      <td>3</td>\n      <td>5</td>\n      <td>Harry Potter and the Prisoner of Azkaban (Harr...</td>\n      <td>J.K. Rowling/Mary GrandPré</td>\n      <td>4.56</td>\n      <td>043965548X</td>\n      <td>9780439655484</td>\n      <td>eng</td>\n      <td>435</td>\n      <td>2339585</td>\n      <td>36325</td>\n      <td>5/1/2004</td>\n      <td>Scholastic Inc.</td>\n      <td>627 books222k followers</td>\n    </tr>\n    <tr>\n      <th>4</th>\n      <td>4</td>\n      <td>4</td>\n      <td>8</td>\n      <td>Harry Potter Boxed Set  Books 1-5 (Harry Potte...</td>\n      <td>J.K. Rowling/Mary GrandPré</td>\n      <td>4.78</td>\n      <td>0439682584</td>\n      <td>9780439682589</td>\n      <td>eng</td>\n      <td>2690</td>\n      <td>41428</td>\n      <td>164</td>\n      <td>9/13/2004</td>\n      <td>Scholastic</td>\n      <td>627 books222k followers</td>\n    </tr>\n  </tbody>\n</table>\n</div>"
     },
     "execution_count": 224,
     "metadata": {},
     "output_type": "execute_result"
    }
   ],
   "source": [
    "df_final.head()"
   ],
   "metadata": {
    "collapsed": false,
    "pycharm": {
     "name": "#%%\n"
    }
   }
  },
  {
   "cell_type": "markdown",
   "source": [
    "#### Drop useless columns"
   ],
   "metadata": {
    "collapsed": false,
    "pycharm": {
     "name": "#%% md\n"
    }
   }
  },
  {
   "cell_type": "code",
   "execution_count": 225,
   "outputs": [],
   "source": [
    "df_final.drop(columns=['Unnamed: 0', 'Unnamed: 0.1'], inplace=True)"
   ],
   "metadata": {
    "collapsed": false,
    "pycharm": {
     "name": "#%%\n"
    }
   }
  },
  {
   "cell_type": "markdown",
   "source": [
    "#### Check for missing values or empty strings"
   ],
   "metadata": {
    "collapsed": false,
    "pycharm": {
     "name": "#%% md\n"
    }
   }
  },
  {
   "cell_type": "code",
   "execution_count": 226,
   "outputs": [
    {
     "data": {
      "text/plain": "Unnamed: 0.1                   0\nUnnamed: 0                     0\nbookID                         0\ntitle                          0\nauthors                        0\naverage_rating                 0\nisbn                           0\nisbn13                         0\nlanguage_code                  0\n  num_pages                    0\nratings_count                  0\ntext_reviews_count             0\npublication_date               0\npublisher                      0\nbooks_written_and_followers    5\ndtype: int64"
     },
     "execution_count": 226,
     "metadata": {},
     "output_type": "execute_result"
    }
   ],
   "source": [
    "df['books_written_and_followers'] = df['books_written_and_followers'].replace('',np.nan)\n",
    "df.isnull().sum()"
   ],
   "metadata": {
    "collapsed": false,
    "pycharm": {
     "name": "#%%\n"
    }
   }
  },
  {
   "cell_type": "markdown",
   "source": [
    "#### Reformat the values of books_written_and_followers"
   ],
   "metadata": {
    "collapsed": false,
    "pycharm": {
     "name": "#%% md\n"
    }
   }
  },
  {
   "cell_type": "code",
   "execution_count": 227,
   "outputs": [
    {
     "data": {
      "text/plain": "0           609 /222k \n1           627 /222k \n2           609 /222k \n3           627 /222k \n4           627 /222k \n             ...      \n11118       85 /1,093 \n11119       85 /1,093 \n11120       85 /1,093 \n11121       85 /1,093 \n11122    10.1k /17.1k \nName: books_written_and_followers, Length: 11123, dtype: object"
     },
     "execution_count": 227,
     "metadata": {},
     "output_type": "execute_result"
    }
   ],
   "source": [
    "# Function to reformat the values\n",
    "def reformat_value(value):\n",
    "    value = str(value)\n",
    "    value = value.replace('books', '/').replace('book', '/').replace('followers', '').replace('follower', '')\n",
    "    #value = value.replace(',', '').replace('.', '').replace('k', '000')\n",
    "    return value\n",
    "\n",
    "# Apply the function to the DataFrame column\n",
    "df['books_written_and_followers'].apply(reformat_value)\n"
   ],
   "metadata": {
    "collapsed": false,
    "pycharm": {
     "name": "#%%\n"
    }
   }
  },
  {
   "cell_type": "code",
   "execution_count": 228,
   "outputs": [
    {
     "data": {
      "text/plain": "0          609/22200\n1          627/22200\n2          609/22200\n3          627/22200\n4          627/22200\n            ...     \n11118        85/1093\n11119        85/1093\n11120        85/1093\n11121        85/1093\n11122    10100/17100\nName: books_written_and_followers, Length: 11123, dtype: object"
     },
     "execution_count": 228,
     "metadata": {},
     "output_type": "execute_result"
    }
   ],
   "source": [
    "df_final['books_written_and_followers'] = df_final['books_written_and_followers'].replace(\"\\xa0\",'',regex=True).replace(['books', 'book'], '/', regex=True).replace(['followers', 'follower'], '', regex=True).replace('k', '00',regex=True).str.replace(',', '', regex=True).str.replace('.', '')\n",
    "df_final['books_written_and_followers']"
   ],
   "metadata": {
    "collapsed": false,
    "pycharm": {
     "name": "#%%\n"
    }
   }
  },
  {
   "cell_type": "markdown",
   "source": [
    "#### Split into 2 columns"
   ],
   "metadata": {
    "collapsed": false,
    "pycharm": {
     "name": "#%% md\n"
    }
   }
  },
  {
   "cell_type": "code",
   "execution_count": 229,
   "outputs": [],
   "source": [
    "df_final[['written_books', 'followers']] = df_final['books_written_and_followers'].str.split('/', n=1, expand=True)"
   ],
   "metadata": {
    "collapsed": false,
    "pycharm": {
     "name": "#%%\n"
    }
   }
  },
  {
   "cell_type": "code",
   "execution_count": 230,
   "outputs": [
    {
     "data": {
      "text/plain": "bookID                         0\ntitle                          0\nauthors                        0\naverage_rating                 0\nisbn                           0\nisbn13                         0\nlanguage_code                  0\n  num_pages                    0\nratings_count                  0\ntext_reviews_count             0\npublication_date               0\npublisher                      0\nbooks_written_and_followers    5\nwritten_books                  5\nfollowers                      5\ndtype: int64"
     },
     "execution_count": 230,
     "metadata": {},
     "output_type": "execute_result"
    }
   ],
   "source": [
    "df_final.isnull().sum()"
   ],
   "metadata": {
    "collapsed": false,
    "pycharm": {
     "name": "#%%\n"
    }
   }
  },
  {
   "cell_type": "code",
   "execution_count": 231,
   "outputs": [
    {
     "name": "stdout",
     "output_type": "stream",
     "text": [
      "324  Empty strings in followers column\n",
      "0  Empty strings in followers column\n"
     ]
    }
   ],
   "source": [
    "# Check empty followers\n",
    "print(df_final[df_final['followers'] == ''].shape[0], ' Empty strings in followers column')\n",
    "\n",
    "# Replace empty followers with 0\n",
    "df_final.loc[df_final['followers'] == '', 'followers'] = '0'\n",
    "\n",
    "print(df_final[df_final['followers'] == ''].shape[0], ' Empty strings in followers column')"
   ],
   "metadata": {
    "collapsed": false,
    "pycharm": {
     "name": "#%%\n"
    }
   }
  },
  {
   "cell_type": "code",
   "execution_count": 232,
   "outputs": [
    {
     "name": "stdout",
     "output_type": "stream",
     "text": [
      "(0, 15)\n"
     ]
    }
   ],
   "source": [
    "# Check empty written_books\n",
    "print(df_final[df_final['written_books'] == ''].shape)"
   ],
   "metadata": {
    "collapsed": false,
    "pycharm": {
     "name": "#%%\n"
    }
   }
  },
  {
   "cell_type": "markdown",
   "source": [
    "#### Convert the columns type from object to int"
   ],
   "metadata": {
    "collapsed": false,
    "pycharm": {
     "name": "#%% md\n"
    }
   }
  },
  {
   "cell_type": "code",
   "execution_count": 235,
   "outputs": [
    {
     "data": {
      "text/plain": "bookID                           int64\ntitle                           object\nauthors                         object\naverage_rating                 float64\nisbn                            object\nisbn13                           int64\nlanguage_code                   object\n  num_pages                      int64\nratings_count                    int64\ntext_reviews_count               int64\npublication_date                object\npublisher                       object\nbooks_written_and_followers     object\nwritten_books                   object\nfollowers                       object\ndtype: object"
     },
     "execution_count": 235,
     "metadata": {},
     "output_type": "execute_result"
    }
   ],
   "source": [
    "df_final.dtypes"
   ],
   "metadata": {
    "collapsed": false,
    "pycharm": {
     "name": "#%%\n"
    }
   }
  },
  {
   "cell_type": "code",
   "execution_count": 237,
   "outputs": [
    {
     "data": {
      "text/plain": "bookID                           int64\ntitle                           object\nauthors                         object\naverage_rating                 float64\nisbn                            object\nisbn13                           int64\nlanguage_code                   object\n  num_pages                      int64\nratings_count                    int64\ntext_reviews_count               int64\npublication_date                object\npublisher                       object\nbooks_written_and_followers     object\nwritten_books                  float64\nfollowers                      float64\ndtype: object"
     },
     "execution_count": 237,
     "metadata": {},
     "output_type": "execute_result"
    }
   ],
   "source": [
    "df_final['written_books'] = pd.to_numeric(df_final['written_books'], errors='coerce')\n",
    "df_final['followers'] = pd.to_numeric(df_final['followers'], errors='coerce')\n",
    "df_final.dtypes"
   ],
   "metadata": {
    "collapsed": false,
    "pycharm": {
     "name": "#%%\n"
    }
   }
  },
  {
   "cell_type": "markdown",
   "source": [
    "#### Drop books_written_and_followers"
   ],
   "metadata": {
    "collapsed": false,
    "pycharm": {
     "name": "#%% md\n"
    }
   }
  },
  {
   "cell_type": "code",
   "execution_count": 240,
   "outputs": [],
   "source": [
    "df_final.drop(columns=['books_written_and_followers'], inplace=True)"
   ],
   "metadata": {
    "collapsed": false,
    "pycharm": {
     "name": "#%%\n"
    }
   }
  },
  {
   "cell_type": "code",
   "execution_count": 241,
   "outputs": [
    {
     "data": {
      "text/plain": "   bookID                                              title  \\\n0       1  Harry Potter and the Half-Blood Prince (Harry ...   \n1       2  Harry Potter and the Order of the Phoenix (Har...   \n2       4  Harry Potter and the Chamber of Secrets (Harry...   \n3       5  Harry Potter and the Prisoner of Azkaban (Harr...   \n4       8  Harry Potter Boxed Set  Books 1-5 (Harry Potte...   \n\n                      authors  average_rating        isbn         isbn13  \\\n0  J.K. Rowling/Mary GrandPré            4.57  0439785960  9780439785969   \n1  J.K. Rowling/Mary GrandPré            4.49  0439358078  9780439358071   \n2                J.K. Rowling            4.42  0439554896  9780439554893   \n3  J.K. Rowling/Mary GrandPré            4.56  043965548X  9780439655484   \n4  J.K. Rowling/Mary GrandPré            4.78  0439682584  9780439682589   \n\n  language_code    num_pages  ratings_count  text_reviews_count  \\\n0           eng          652        2095690               27591   \n1           eng          870        2153167               29221   \n2           eng          352           6333                 244   \n3           eng          435        2339585               36325   \n4           eng         2690          41428                 164   \n\n  publication_date        publisher  written_books  followers  \n0        9/16/2006  Scholastic Inc.          609.0    22200.0  \n1         9/1/2004  Scholastic Inc.          627.0    22200.0  \n2        11/1/2003       Scholastic          609.0    22200.0  \n3         5/1/2004  Scholastic Inc.          627.0    22200.0  \n4        9/13/2004       Scholastic          627.0    22200.0  ",
      "text/html": "<div>\n<style scoped>\n    .dataframe tbody tr th:only-of-type {\n        vertical-align: middle;\n    }\n\n    .dataframe tbody tr th {\n        vertical-align: top;\n    }\n\n    .dataframe thead th {\n        text-align: right;\n    }\n</style>\n<table border=\"1\" class=\"dataframe\">\n  <thead>\n    <tr style=\"text-align: right;\">\n      <th></th>\n      <th>bookID</th>\n      <th>title</th>\n      <th>authors</th>\n      <th>average_rating</th>\n      <th>isbn</th>\n      <th>isbn13</th>\n      <th>language_code</th>\n      <th>num_pages</th>\n      <th>ratings_count</th>\n      <th>text_reviews_count</th>\n      <th>publication_date</th>\n      <th>publisher</th>\n      <th>written_books</th>\n      <th>followers</th>\n    </tr>\n  </thead>\n  <tbody>\n    <tr>\n      <th>0</th>\n      <td>1</td>\n      <td>Harry Potter and the Half-Blood Prince (Harry ...</td>\n      <td>J.K. Rowling/Mary GrandPré</td>\n      <td>4.57</td>\n      <td>0439785960</td>\n      <td>9780439785969</td>\n      <td>eng</td>\n      <td>652</td>\n      <td>2095690</td>\n      <td>27591</td>\n      <td>9/16/2006</td>\n      <td>Scholastic Inc.</td>\n      <td>609.0</td>\n      <td>22200.0</td>\n    </tr>\n    <tr>\n      <th>1</th>\n      <td>2</td>\n      <td>Harry Potter and the Order of the Phoenix (Har...</td>\n      <td>J.K. Rowling/Mary GrandPré</td>\n      <td>4.49</td>\n      <td>0439358078</td>\n      <td>9780439358071</td>\n      <td>eng</td>\n      <td>870</td>\n      <td>2153167</td>\n      <td>29221</td>\n      <td>9/1/2004</td>\n      <td>Scholastic Inc.</td>\n      <td>627.0</td>\n      <td>22200.0</td>\n    </tr>\n    <tr>\n      <th>2</th>\n      <td>4</td>\n      <td>Harry Potter and the Chamber of Secrets (Harry...</td>\n      <td>J.K. Rowling</td>\n      <td>4.42</td>\n      <td>0439554896</td>\n      <td>9780439554893</td>\n      <td>eng</td>\n      <td>352</td>\n      <td>6333</td>\n      <td>244</td>\n      <td>11/1/2003</td>\n      <td>Scholastic</td>\n      <td>609.0</td>\n      <td>22200.0</td>\n    </tr>\n    <tr>\n      <th>3</th>\n      <td>5</td>\n      <td>Harry Potter and the Prisoner of Azkaban (Harr...</td>\n      <td>J.K. Rowling/Mary GrandPré</td>\n      <td>4.56</td>\n      <td>043965548X</td>\n      <td>9780439655484</td>\n      <td>eng</td>\n      <td>435</td>\n      <td>2339585</td>\n      <td>36325</td>\n      <td>5/1/2004</td>\n      <td>Scholastic Inc.</td>\n      <td>627.0</td>\n      <td>22200.0</td>\n    </tr>\n    <tr>\n      <th>4</th>\n      <td>8</td>\n      <td>Harry Potter Boxed Set  Books 1-5 (Harry Potte...</td>\n      <td>J.K. Rowling/Mary GrandPré</td>\n      <td>4.78</td>\n      <td>0439682584</td>\n      <td>9780439682589</td>\n      <td>eng</td>\n      <td>2690</td>\n      <td>41428</td>\n      <td>164</td>\n      <td>9/13/2004</td>\n      <td>Scholastic</td>\n      <td>627.0</td>\n      <td>22200.0</td>\n    </tr>\n  </tbody>\n</table>\n</div>"
     },
     "execution_count": 241,
     "metadata": {},
     "output_type": "execute_result"
    }
   ],
   "source": [
    "df_final.head()"
   ],
   "metadata": {
    "collapsed": false,
    "pycharm": {
     "name": "#%%\n"
    }
   }
  },
  {
   "cell_type": "markdown",
   "source": [
    " ### Save df_final"
   ],
   "metadata": {
    "collapsed": false,
    "pycharm": {
     "name": "#%% md\n"
    }
   }
  },
  {
   "cell_type": "code",
   "execution_count": 242,
   "outputs": [],
   "source": [
    "filename = \"../../data/raw/scraped/books_written_followers_latest_cleaned.csv\"\n",
    "df_final.to_csv(filename)"
   ],
   "metadata": {
    "collapsed": false,
    "pycharm": {
     "name": "#%%\n"
    }
   }
  }
 ],
 "metadata": {
  "kernelspec": {
   "display_name": "Python 3 (ipykernel)",
   "language": "python",
   "name": "python3"
  },
  "language_info": {
   "codemirror_mode": {
    "name": "ipython",
    "version": 3
   },
   "file_extension": ".py",
   "mimetype": "text/x-python",
   "name": "python",
   "nbconvert_exporter": "python",
   "pygments_lexer": "ipython3",
   "version": "3.9.13"
  }
 },
 "nbformat": 4,
 "nbformat_minor": 5
}